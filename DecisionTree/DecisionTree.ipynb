# Weather-based Game Play Prediction
# Need numeric data 

import pandas as pd

# Loading Data into variable
df = pd.read_csv("sample_data.csv")

print("the excel file :\n",df.head())

# DecisionTreeClassifier importing
from sklearn.tree import DecisionTreeClassifier

# Seperating data into input and output variables
input = df[['outlook','temperature','humidity','windy']]
output = df['play']

# initializing objects
tree = DecisionTreeClassifier()

# Training Data
tree.fit(input,output)

# Plotting Tree
from sklearn.tree import plot_tree

plot_tree(tree,feature_names=input.columns)

print("This was tree design\n\n")

# Prediciting Value

predict1 = pd.DataFrame({'outlook' : [0],'temperature' : [1],'humidity' : [0],'windy' : [0]})

print("predicting this data : \n",predict1)

tree.predict(predict1)
