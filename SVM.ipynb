{
  "nbformat": 4,
  "nbformat_minor": 0,
  "metadata": {
    "colab": {
      "provenance": [],
      "authorship_tag": "ABX9TyO3fIxATaqKOIMFwNTdJLDk",
      "include_colab_link": true
    },
    "kernelspec": {
      "name": "python3",
      "display_name": "Python 3"
    },
    "language_info": {
      "name": "python"
    }
  },
  "cells": [
    {
      "cell_type": "markdown",
      "metadata": {
        "id": "view-in-github",
        "colab_type": "text"
      },
      "source": [
        "<a href=\"https://colab.research.google.com/github/SwarajMohite/DM-ML/blob/main/SVM.ipynb\" target=\"_parent\"><img src=\"https://colab.research.google.com/assets/colab-badge.svg\" alt=\"Open In Colab\"/></a>"
      ]
    },
    {
      "cell_type": "code",
      "execution_count": 2,
      "metadata": {
        "colab": {
          "base_uri": "https://localhost:8080/"
        },
        "id": "_FC2LbT7yIiG",
        "outputId": "1574cdef-2640-4c61-b4d3-d7c52d981b6f"
      },
      "outputs": [
        {
          "output_type": "stream",
          "name": "stdout",
          "text": [
            "[1]\n"
          ]
        }
      ],
      "source": [
        "# SVM using Static data\n",
        "\n",
        "from sklearn import svm\n",
        "import numpy as np\n",
        "\n",
        "features = [[1,4],[5,1],[4,3],[8,7]]\n",
        "labels = [1,0,0,1]\n",
        "\n",
        "clf = svm.SVC()\n",
        "clf.fit(features,labels)\n",
        "\n",
        "new_data = [[-3,8]]\n",
        "print(\"Predicted Class : \",clf.predict(new_data))"
      ]
    },
    {
      "cell_type": "code",
      "source": [
        "# Data by our own\n",
        "\n",
        "from sklearn import svm\n",
        "import numpy as np\n",
        "import pandas as pd\n",
        "\n",
        "data = pd.read_csv('data.csv')\n",
        "\n",
        "features = data.iloc[:,:-1].values\n",
        "labels = data.iloc[:,-1].values\n",
        "\n",
        "clf = svm.SVC()\n",
        "\n",
        "clf.fit(features,labels)\n",
        "\n",
        "new_data = np.array([[2,6,-1]])\n",
        "\n",
        "predictions = clf.predict(new_data)\n",
        "\n",
        "print(\"Predicted Class of the array is : \",predictions)"
      ],
      "metadata": {
        "colab": {
          "base_uri": "https://localhost:8080/"
        },
        "id": "SnTiuHVbz7kM",
        "outputId": "9245c1c6-58db-40ac-9f18-74b2c320c923"
      },
      "execution_count": 9,
      "outputs": [
        {
          "output_type": "stream",
          "name": "stdout",
          "text": [
            "Predicted Class of the array is :  [0]\n"
          ]
        }
      ]
    }
  ]
}