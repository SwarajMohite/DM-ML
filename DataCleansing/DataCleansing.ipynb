import pandas as pd

df = pd.read_csv("sample_data.csv")

print("\nthe data before cleansing : \n",df.head())

df = df.drop_duplicates()

print("\nthe data after dropping duplicates : \n",df.head())

df = df.fillna("unkonwn")

print("\nthe data after filling missing vlaues : \n",df.head())

df.columns = df.columns.str.strip()

print("\nthe data after removing space : \n",df.head())

df['Name'] = df['Name'].str.lower()

print("\nthe data after lowering : \n",df.head())

df.to_csv("cleaned_data.csv",index = False)

cl = pd.read_csv("cleaned_data.csv")

print("\ncleaned data : \n",cl.head())
